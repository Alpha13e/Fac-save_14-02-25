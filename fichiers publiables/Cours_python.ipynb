{
 "cells": [
  {
   "cell_type": "markdown",
   "metadata": {},
   "source": [
    "# Introduction\n",
    "J'ai initialement créé ce document pour moi, en tant que fiche rassemblant tous mes cours de Python. Je me suis ensuite rendu compte que cela pourrait intéresser bien du monde. Bref, si vous avez des suggestions, faites-le moi savoir (je ne sais pas encore comment faire des suggestions via GitHub, mais on peut découvrir ensemble).\n",
    "<div class=\"alert alert-info\">\n",
    "\n",
    "<u>Guide pour bien démarrer la programmation:</u>\n",
    "\n",
    "Pour programmer confortablement, il faut un **IDE** (environnement de développement intégré). Il vous permet d'avoir des couleurs, signaler les erreurs,... Bref, rendre la vie plus facile. Je vous recommande [Vs code](https://code.visualstudio.com/download), un des principaux sur le marché et, bien que complet, facile à prendre en main. Il fonctionne avec des **extensions** (icône de boîtes sur le panneau de gauche). Je vous conseille Python, Jupyter Notebook (vous en lisez un), markdown all in one (le langage de cette cellule), et vscode-pdf (utile pour tout avoir dans le même environnement). Car on peut **ouvrir un fichier** entier, et organiser les fenêtres comme on veut, comme sur le bureau windows ! Tout est dans l'icône documents du panneau de gauche. Certans fichiers comme les notebook (.ipynb) ont une architecture. Je vous laisse tester *outline*, toujours dans l'onglet Explorer.\n",
    "\n",
    "Voilà, je vous laisse explorer le reste sur Internet, les ressources ne manquent pas !\n",
    "</div>\n",
    "\n",
    "# Sommaire\n",
    "- [Ressources](#Ressources:)\n",
    "- [Bases de python](#Bases-python)\n",
    "\n",
    "- [Résolution numérique](#résolution-numérique)"
   ]
  },
  {
   "cell_type": "markdown",
   "metadata": {},
   "source": [
    "# Ressources:\n",
    "[Math cheatsheet](https://www.upyesp.org/posts/makrdown-vscode-math-notation/)\n",
    "\n",
    "- $\\overset{x_0}=$ : `\\overset{x_0}{=}`\n",
    "- $\\exists$: `\\exists`\n",
    "- $\\left(...\\right)$ : `\\left(...\\right)`\n",
    "\n",
    "For internal (within the same notebook) links use this code:\n",
    "`[section title](#section-title)`\n",
    "For the text in the parentheses, replace spaces and special characters with a hyphen.\n",
    "\n",
    "Alternatively, you can add an ID for a section right above the section title.\n",
    "Use this code: `<a id=\"section_ID\"></a>`\n",
    "\n",
    "Make sure that the section_ID is unique within the notebook.\n",
    "Use this code: `[section title](#section_ID)`\n",
    "\n",
    "External links\n",
    "\n",
    "Use this code: `[external link text](http://url_here)`"
   ]
  },
  {
   "cell_type": "markdown",
   "metadata": {},
   "source": [
    "# Bases python\n",
    "- Mots interdits/utiles\n",
    "\n",
    "||||||||||||\n",
    "|-|-|-|-|-|-|-|-|-|-|-|\n",
    "|and|as|assert|break|class|**continue**|def|del|elif|else|with|\n",
    "|**exept**|false|finally|for|from|global|if|import|in|is|while|\n",
    "|lambda|none|nonlocal|not|or|**pass**|raise|return|true|try|yield|\n",
    "\n",
    "- Types de variables : `type(a)` : `list`, `str`, `int`, `float`,`tuple`(liste non modifiable),`dict`, `set`\n",
    "\n",
    "- Opérations de base\n",
    "\n",
    "  - `//` : Quotient division\n",
    "  - `%`  : Reste\n",
    "  - `==` : Egal\n",
    "  - `!=` : Différend\n",
    "  - `< > <= >=` : Comparaisons\n",
    "  - `in` : appartient\n",
    "  - `assert`, `input()`"
   ]
  },
  {
   "cell_type": "markdown",
   "metadata": {},
   "source": [
    "## Listes\n",
    "\n",
    "- `l[début:fin:pas]`: appeler des éléments de la liste \n",
    "- `[i**2 for i in range(debut,fin,pas) if i<n]`: liste par compréhension\n",
    "\n",
    "- Méthodes: \n",
    "  - `sum(l)` : somme les éléments de l ssi ce sont tous des nombres\n",
    "  - `len(l)` : longueur de l\n",
    "  - `del l[i]` : supprime l'élément de position i\n",
    "  - `sorted(l)` : renvoie une liste triée \n",
    "  - `max(l)` `min(l)`\n",
    "  - `l.append(x)`, `l.remove(x)`, `l.count(x)`, `l.insert(i,x)`, `l.clear(x)`\n",
    "  - `l.extend(L)` ajoute les éléments de L en fin de l, équivaut à l+L\n",
    "  - `l.pop(i)` renvoie l’élément d’indice i dans l puis le supprime\n",
    "  - `l.index(x)` renvoie l’indice de la première occurrence de x dans l\n",
    "  - `l.sort()` **modifie** la liste a en la triant.\n",
    "  - `l.reverse()` **modifie** la liste a en inversant les éléments\n",
    "\n",
    "- Parcourir listes dans une boucle:\n",
    "  - `l` parcourt les éléments de l\n",
    "  - `range(len(l))` parcourt ses indices\n",
    "  - `enumerate(l)` donne la paire (indice,éléments)\n",
    "  - `zip` parcourt n listes d'un coup, s'arrête au dernier rang de la plus petite liste\n",
    "\n",
    "\n",
    "`i,(ai,bi) in enumerate(zip(a,b))` **Parcours ultime !**\n",
    "\n",
    "> Voir module numpy pour matrices"
   ]
  },
  {
   "cell_type": "markdown",
   "metadata": {},
   "source": [
    "## Gestion de texte ; Lecture/écriture\n",
    "\n",
    "f-string : `f\"texte1 {variable à insérer 1} suite du texte\"`\n",
    "\n",
    "- Caractères spéciaux\n",
    "  - `\\n` retour a la ligne\n",
    "  - `\\t` tab\n",
    "  - `\\a` bib système\n",
    "  - `\\\\` antislash\n",
    "  - `\\'` ou `\\\"` : écrire `'`ou `\"` dans un texte\n",
    "\n",
    "`f=open(\"test.txt\",\"r\")`: `r` = read ; `w` = write ; `r+` = both ; `a` = append\n",
    "\n",
    "- Méthodes :\n",
    "\n",
    "  - `f.index(\"x\")` indice de la première occurrence de x\n",
    "  - `f.count(\"x\")` nombre d’occurrence de \"x\"\n",
    "  - `f.lower()` `f.upper()` **nouvelle** chaîne où tous les caractères de f sont en minuscule/majuscule\n",
    "  - `f.capitalize()` **nouvelle** chaîne où la **première lettre du premier mot** de f est en majuscule\n",
    "  - `f.title()` **nouvelle** chaîne où la **première lettre de chaque mot** de s est en majuscule"
   ]
  },
  {
   "cell_type": "markdown",
   "metadata": {},
   "source": [
    "# Résolution numérique\n",
    "\n",
    "## Résolution de $f(x)=0$\n",
    "#### Résumé général\n",
    "- <u>Mathématiquement,</u> on caractérise l'existence de la solution, tente de réduire le champ des possibles à l'aide de propriétés, pour finalement arriver à une **possible solution exacte.**\n",
    "- <u>Numériquement,</u> on ne peut qu'approximer: On fixe une précision $p>0$ \n",
    "( $10^{-3}<p<10^{-12}$ ) et considère $f(x)=0$ résolu si:\n",
    "  - $|f(x)<p|$\n",
    "  - $|x-\\hat x|<p$\n",
    "  - $|x-\\hat x|+f(\\hat x)<p$\n",
    "  \n",
    "  Avec $x$ l'ancienne approximation, $\\hat x$ la nouvelle.\n",
    "\n",
    "#### Ordre de convergence\n",
    "L'ordre de convergence d'une suite $(x_n)$ est dite:\n",
    "- <u>Linéaire si</u> \n",
    "$$\n",
    "\\lim_{n\\to +\\infin} \\frac{|x_{n+1}-\\hat x|}{|x_n-\\hat x|} =\\alpha \\in ]0,1[\n",
    "$$\n",
    "- <u>Superlinéaire si</u> \n",
    "$$\n",
    "\\lim_{n\\to +\\infin} \\frac{|x_{n+1}-\\hat x|}{|x_n-\\hat x|}=0\n",
    "$$\n",
    "- <u>D'ordre $p>1$ si</u> \n",
    "$$\n",
    "\\lim_{n\\to +\\infin} \\frac{|x_{n+1}-\\hat x|}{|x_n-\\hat x|^p} \\in \\mathbb R^*_+\n",
    "$$\n",
    "\n",
    "#### Méthodes numériques\n"
   ]
  },
  {
   "cell_type": "markdown",
   "metadata": {},
   "source": [
    "##### Méthode par dichotomie:\n",
    "\n",
    "Soit $f$ de classe $C^1$ et changeant de signe entre $[a_0,b_0]$. Selon le TVI, $f(x)=0$ admet au moins 1 solution.\n",
    "> Méthode: On divise l'intervalle en deux, cherche de quel côté on change de signe et reccomence de ce côté.\n",
    "\n",
    "On définit donc $(a_n)$, $(b_n)$ et $(m_n)$ par réccurence:\n",
    "$$\n",
    "\\begin{cases}\n",
    "m_n=\\frac{a_n+b_n}{2}\\\\\n",
    "a_{n+1}=b_n \\text{ si }f(a_n)f(b_n)<0, m_n \\text{ sinon}\\\\\n",
    "b_{n+1}=m_n \\text{ si }f(a_n)f(b_n)<0, b_n \\text{ sinon}\n",
    "\\end{cases}\n",
    "$$\n",
    "On peut montrer que $\\forall n \\in \\mathbb N, (a_n)$ est croissante, $(b_n)$ décroissante et\n",
    "$$\n",
    "|b_{n+1}-a_{n+1}|=\\frac{1}{2^{n+1}}|b_0-a_0| \\rightarrow 0 \\text{ en }+\\infin\n",
    "$$\n",
    "**Ces suites sont adjacentes !**\n",
    "\n",
    "Donc, comme $f$ est continue, $f^2(c)=\\lim f(a_n)f(b_n)\\leq 0$. Ainsi, $f'(c)=0$, la limite est bel et bient la solution du problème.\n",
    "> La dichotomie est **lente mais imparable**: en 10 itérations, on obtient une précision de $2^{10}\\approx 10^3$\n",
    "\n"
   ]
  },
  {
   "cell_type": "code",
   "execution_count": null,
   "metadata": {},
   "outputs": [],
   "source": [
    "def dicho(a,b,f,itemax):\n",
    "    for i in range(itemax):\n",
    "        m=(a+b)/2\n",
    "        if f(m)==0:\n",
    "            return m\n",
    "        else:\n",
    "            if f(a)*f(m)<0:\n",
    "                a,b=b,m\n",
    "            else:\n",
    "                a=m\n",
    "    return m"
   ]
  },
  {
   "cell_type": "markdown",
   "metadata": {},
   "source": [
    "##### Méthode de Lagrange:\n",
    "> **Amélioration de la dichotomie** qui change l'expression de $m_n$:\n",
    "\n",
    "$m_n$ devient le point d'intersection entre les abscisses et $[(a_n,f(a_n));(b_n,f(b_n))]$.\n",
    "\n",
    "Donc $(m_n)$ vérifie $f(a_n)\\frac{f(b_n)-f(a_n)}{b_n-a_n}(m_n-a_n)$\n",
    "$$\n",
    "m_n=\\frac{f(b_n)a_n-f(a_n)b_n}{f(b_n)-f(a_n)}\n",
    "$$\n",
    "\n",
    "**Mais** On ne peut plus prendre $|b-a|\\geq p$ comme critère car il ne tend plus vers 0.\n",
    "\n",
    "On le remplace par $|m_{n+1}-m_n|\\geq p$, qui a besoin de $m_n$ à initier et stocker.\n",
    "> Plus rapide que la dichotomie mais demande une variable en plus\n"
   ]
  },
  {
   "cell_type": "markdown",
   "metadata": {},
   "source": [
    "##### Méthode de la sécante :\n",
    "<div class=\"alert alert-block alert-info\">\n",
    "\n",
    "$$\n",
    "\\forall n>=0, x_{n+1}= \\frac {f(x_n)-f(x_{n-1})x_n} {f(x_n)-f(x_{n-1})}\n",
    "$$\n",
    "\n",
    "</div>\n",
    "\n",
    "(classes bootstrap)\n",
    "> <u> Remarque: </u>\n",
    ">\n",
    "> Pour que $ x_{n} $ soit bien défini, $\\forall n>=0, f(x_{n-1})\\neq f(x_n)$\n",
    "\n",
    "**<u>Théorème :</u>**\n",
    "\n",
    "Soit f de classe $C^2$ sur $]a,b[$ avec $f(\\hat x)=0$;\n",
    "\n",
    "On suppose $f'(\\hat x)\\neq 0$. Si les points initiaux $x_{-1}$ et $x_0$ sont choisis suffisamment proches de $\\hat x$, la suite $(x_n)$ converge vers $\\hat x$ et est d'ordre $\\phi =\\frac{1+\\sqrt{5}} {2}$\n",
    "\n",
    ">\n"
   ]
  },
  {
   "cell_type": "code",
   "execution_count": null,
   "metadata": {},
   "outputs": [],
   "source": [
    "f=lambda x: ...\n",
    "\n",
    "def secante(xo,xi,ep):\n",
    "    x,y=xo,xi\n",
    "    z=(f(x)*y - f(y)*x)/(f(x)-f(y))\n",
    "    while abs(f(z))>ep:\n",
    "        x=y\n",
    "        y=z\n",
    "        z=(f(x)*y - f(y)*x)/(f(x)-f(y))\n",
    "    \"\"\"  \n",
    "    d=1\n",
    "    while d >ep:\n",
    "        x=y\n",
    "        y=z\n",
    "        z=(f(x)*y - f(y)*x)/(f(x)-f(y))\n",
    "        d=abs(z-y)\n",
    "    \"\"\"\n"
   ]
  },
  {
   "cell_type": "markdown",
   "metadata": {},
   "source": [
    "##### Méthode de Newton:\n",
    "> Plutôt que de résoudre $f(x)=0$, on remplace $f$ par son $Dl_1$ au point initial $x_0$\n",
    "\n",
    "$$\n",
    "f(x)=f(x_0)+f'(x_0)(x-x_0)+\\omicron (|x-x_0|) \n",
    "$$\n",
    "$$\n",
    "\\approx f(x_0)+f'(x_0)(x-x_0)\n",
    "$$\n",
    "On considère donc \n",
    "$$\n",
    "f(x_0)+f'(x_0)(x-x_0)=0\n",
    "$$\n",
    "dont la solution est\n",
    "$$\n",
    "x_1=x_0-\\frac{f(x_0)}{f'(x_0)}\n",
    "$$\n",
    "<u> Finalement, la suite est donc: </u>\n",
    "$$\n",
    "\\forall n\\geq 0, x_{n+1}=x_n-\\frac{f(x_n)}{f'(x_n)}\n",
    "$$\n",
    "> $x_{n+1}$ est le point d'intersection entre la tangente de f en $(x_n,f(x_n))$ et l'axe des abscisses\n",
    "\n",
    "> Remarque: Il faut que $\\forall n\\in \\mathbb N, f'(x_n)\\neq 0, $\n",
    "\n",
    "**<u>Théorème :</u>**\n",
    "Soit $f$ de classe $C^2$ sur $]a,b[$ avec $f(\\hat x)=0$;\n",
    "\n",
    "Si $f'(\\hat x)\\neq 0$, et $x_0$ suffisamment proche de $\\hat x$, la suite par newton converge vers $\\hat x$ quadratiquemt (ordre 2)\n",
    "\n",
    "> Très rapide ! A utiliser si on peut trouver $f'$ facilement"
   ]
  },
  {
   "cell_type": "code",
   "execution_count": null,
   "metadata": {},
   "outputs": [],
   "source": [
    "f=lambda x: ...\n",
    "fp=lambda x: ...\n",
    "\n",
    "def newt(xo,ep):\n",
    "    x=xo\n",
    "    while abs(f(x))>ep:\n",
    "        x=x-f(x)/fp(x)\n",
    "    \"\"\"\n",
    "    d=1\n",
    "    while d>ep:\n",
    "        y=x-f(x)/fp(x)\n",
    "        d=abs(y-x)\n",
    "        x=y\n",
    "    \"\"\""
   ]
  },
  {
   "cell_type": "markdown",
   "metadata": {},
   "source": [
    "## Interpolation de fonction\n",
    "\n",
    "#### Méthode de Lagrange\n",
    "Soit $N+1$ points de coordonées $(x_l,f(x_l))_{0\\geq l \\geq N}$ avec $x_i\\neq x_j$ si $i\\neq j$.\n",
    "\n",
    "L'unique polynôme interpolant ces points peut s'écrire :\n",
    "$$\n",
    "p(x)=\\sum_{i=0}^N {f(x_i) \\prod_{\\substack{m=0\\\\ m\\neq i}}^N \\frac{x-x_m}{x_i-x_m}}\n",
    "$$\n",
    ">**Erreur :**\n",
    ">\n",
    ">Soit $f$ la fonction et $p$ l'interpolation de $f$ en $x_i\\in [a,b]$. Si $f$ est $C^{n+1}([a,b])$, $\\exists \\xi\\in [\\min(x,x_0),max(x,x_n)]$ tq:\n",
    ">$$f(x)-p(x)= \\prod_{i=0}^n \\frac{(x-x_i)}{(n+1)!}f^{(n+1)}(\\xi)$$\n",
    "><u>Remarque:</u> Plus de points d'interpolation ne donne pas nécessairement un meilleur résultat."
   ]
  },
  {
   "cell_type": "markdown",
   "metadata": {},
   "source": [
    "## Différences finies, ou approximation de dérivée\n",
    "<u>Rappel:</u> \n",
    "\n",
    "\n",
    "#### Dérivée première simple\n",
    "Par développement limité, on peut retrouver $\\displaystyle f^\\prime(x_0)=\\lim_{h\\to 0} \\frac {f(x_0+h)-f(x_0)}{h} $.\n",
    "\n",
    "En effet, $\\displaystyle f(x_0)\\overset{x_0}= f(x_0+h) =  f(x_0) +  f'(x_0)h+\\frac {h^2} 2 f''(x_0)+O(h^3)$\n",
    "\n",
    "Donc $\\displaystyle f(x_0+h)-f(x_0) =f'(x_0)h+ O(h^2)$, qui nous donne $f'(x)$ en divisant par $h$:\n",
    "<div class='alert alert-danger'>\n",
    "\n",
    "$$\n",
    "f'(x_0)=\\frac {f(x_0+h)-f(x_0)}{h}+O(h).\n",
    "$$\n",
    "</div>"
   ]
  },
  {
   "cell_type": "markdown",
   "metadata": {},
   "source": [
    "#### Dérivée première centrée\n",
    "On fait simplement une $Dl_2$, et applique une méthode similaire:\n",
    "$$\n",
    "f(x_0-h)   =  f(x_0) -  f'(x_0)h+\\frac {h^2} 2 f''(x_0)+O(h^3)\n",
    "$$\n",
    "> *Astuce:* $f(0+h)-f(0-h)$: \n",
    "$$\n",
    "f(x_0+h) -f(x_0-h)   =  2  f'(x_0)h+0 f''(x_0)+O(h^3)\n",
    "$$\n",
    "<div class='alert alert-danger'>\n",
    "\n",
    "Ainsi,\n",
    "$$\n",
    "f'(x_0)=\\frac {f(x_0+h)-f(x_0-h)}{2h}+O(h^2).\n",
    "$$\n",
    "</div>"
   ]
  },
  {
   "cell_type": "markdown",
   "metadata": {},
   "source": [
    "#### Dérivée seconde\n",
    "> Formule de $f''$ centrée non prouvée, sûrement $f''=(f')'$, obtenue par $Dl_2$\n",
    "<div class='alert alert-danger'>\n",
    "\n",
    "$$\n",
    "f^{\\prime \\prime}(x_0) = \\frac {f(x_0+h)-2f(x_0)+f(x_0-h)}{h^2}+O(h^2).\n",
    "$$\n",
    "</div>"
   ]
  },
  {
   "cell_type": "code",
   "execution_count": 1,
   "metadata": {},
   "outputs": [
    {
     "data": {
      "image/png": "[encoded data removed]",
      "text/plain": [
       "<Figure size 640x480 with 1 Axes>"
      ]
     },
     "metadata": {},
     "output_type": "display_data"
    },
    {
     "data": {
      "image/png": "[encoded data removed]",
      "text/plain": [
       "<Figure size 640x480 with 1 Axes>"
      ]
     },
     "metadata": {},
     "output_type": "display_data"
    }
   ],
   "source": [
    "## Comparaison des approximations des dérivées:\n",
    "\n",
    "def approx_fp(x:float,f,h=1.e-3) ->float:\n",
    "    \"\"\"approxime f'(x) à la précision h.\"\"\"\n",
    "    return (f(x+h)-f(x))/h\n",
    "\n",
    "def approx_fp_centrée(x:float,f,h=1.e-3)->float:\n",
    "    \"\"\"approxime f'(x)à la précision h**2\"\"\"\n",
    "    return (f(x+h)-f(x-h))/(2*h)\n",
    "\n",
    "def approx_fpp(x:float,f,h=1.e-3)->float:\n",
    "    \"\"\"approxime f''(x) à la précision h**2\"\"\"\n",
    "    return (f(x+h)-2*f(x)+f(x-h))/(h*h)\n",
    "\n",
    "import numpy as np\n",
    "import matplotlib.pyplot as plt\n",
    "\n",
    "## Calcul d'erreur (modifier h, différences visibles à h=0.5):\n",
    "h=1/2\n",
    "\n",
    "f=lambda x:np.sin(x)*(x-2)**2\n",
    "x=np.linspace(-1,5)\n",
    "y,fp,yp,ypc,ypp=f(x),(x-2)**2*np.cos(x)+(2*x-4)*np.sin(x),approx_fp(x,f,h),approx_fp_centrée(x,f,h),approx_fpp(x,f,h)\n",
    "\n",
    "## comparaison des dérivées premières:\n",
    "plt.plot(x,fp,label='f\\'(x)')\n",
    "plt.plot(x,yp,label='f\\' simple')\n",
    "plt.plot(x,ypc,label='f\\' centrée')\n",
    "\n",
    "plt.legend()\n",
    "plt.title(f\"comparaison des méthodes avec {h=}\")\n",
    "plt.show()\n",
    "plt.close()\n",
    "## comparaison des dérivées secondes:\n",
    "fpp=-(x - 2)**2*np.sin(x) + 2*(2*x - 4)*np.cos(x) + 2*np.sin(x)\n",
    "plt.plot(x,fpp,label='f\\'\\'(x)')\n",
    "plt.plot(x,ypp,label='f\\'\\'(x) approximée')\n",
    "\n",
    "plt.legend()\n",
    "plt.title(f\"comparaison des méthodes avec {h=}\")\n",
    "plt.show()\n",
    "plt.close()\n",
    "\n"
   ]
  },
  {
   "cell_type": "markdown",
   "metadata": {},
   "source": [
    "## Quadrature, ou intégration numérique\n",
    "Une quadrature utilise comme principe\n",
    "$$\n",
    "F=\\int_a^b f(x)\\ dx = \\lim_{n \\rightarrow \\infin}  \\sum_{k=0}^n a_kf(x_k)\n",
    "$$\n",
    "avec $a_k$ des **coefficients à déterminer** et $x_k$ des points répartis sur $[a,b]$"
   ]
  },
  {
   "cell_type": "markdown",
   "metadata": {},
   "source": [
    "### Rectangles à droite\n",
    "Sur $[a,b]$, on peut approximer la courbe par un rectangle de longueur $b-a$ et hauteur $f(a)$. Pour plus de précision, on discrétise à $n$ intervalles:\n",
    "<div class='alert alert-success'>\n",
    "\n",
    "$$\n",
    "F\\approx \\frac {b-a}n \\sum_{k=0}^{n-1} f(a+k\\frac{b-a}n)=h\\sum_{k=0}^{n-1} f(a+kh), h=\\frac {b-a}n\n",
    "$$\n",
    "</div>\n",
    "\n",
    "### Rectangles à gauche\n",
    "**Même principe**, la hauteur devient simplement $f(b)$, il suffit de **changer les bornes** de la somme:\n",
    "$$\n",
    "F\\approx \\frac {b-a}n \\sum_{k=1}^{n} f(a+k\\frac{b-a}n)=h\\sum_{k=1}^{n} f(a+kh) \\text{ ,  }  h=\\frac {b-a}n\n",
    "$$\n"
   ]
  },
  {
   "cell_type": "markdown",
   "metadata": {},
   "source": [
    "### Trapèze\n",
    "<u>Preuve par la méthode générale:</u>\n",
    "\n",
    "Soit $f$ linéaire sur $[a,b]$. Cherchons $\\alpha$ et $\\beta$ tel que $\\int_a^b f(x)\\, dx = \\alpha f(a)+\\beta f(b)$:\n",
    "\n",
    "On évalue stratégiquement,\n",
    "\n",
    "- Si $f(x)=1$:\n",
    "$$\n",
    "\\int_a^b 1 \\, dx = b-a =\\alpha f(a)+\\beta f(a)=\\alpha +\\beta\n",
    "$$\n",
    "- Si $f(x)=x-a$:\n",
    "$$\n",
    "\\int_a^b f(x) \\,dx = \\frac {(b-a)^2}{2} =\\alpha \\times 0  +\\beta (b-a)\n",
    "$$\n",
    "\n",
    "Ainsi, \n",
    "$$\n",
    "\\begin{cases}\n",
    "\\beta = \\frac {b-a}{2}\\\\\n",
    "\\alpha = (b-a)- \\beta =\\beta\n",
    "\\end{cases}\n",
    "$$\n",
    "<div class=\"alert alert-info\">\n",
    "\n",
    "$$\n",
    "\\int_a^b f(x)\\, dx = \\frac {b-a}{2} (f(a)+f(b))\n",
    "$$\n",
    "Si $f$ est affine\n",
    "</div>\n",
    "\n",
    "<u>Généralisation:</u>\n",
    "\n",
    "On pose $\\displaystyle h=\\frac{b-a}n$,  $\\begin{cases} a_k=a+kh \\\\ b_k=a+h+kh\\end{cases} $. Donc, si $k\\in [0,n-1]$ et $n$ est le nombre d'intégrations:\n",
    "$$\n",
    "F\\approx \\sum_{k=0}^n \\frac{a+kh-a-kh+h}2 (f(a+kh)+f(a+h+kh))\n",
    "$$\n",
    "<div class=\"alert alert-success\">\n",
    "\n",
    "$$\n",
    "F\\approx \\sum_{k=0}^{n-1} \\frac{h}2 (f(a+kh)+f(a+h(1+k)))\n",
    "$$\n",
    "</div>"
   ]
  },
  {
   "cell_type": "markdown",
   "metadata": {},
   "source": [
    "### Simpson\n",
    "<u> Preuve:</u> Utilise 3 points pour interpôler la fonction\n",
    "\n",
    "Soit $f$ un polynôme du second degré sur $[a,b]$. Cherchons $\\alpha$, $\\beta$ et $\\gamma$ tel que $\\int_a^b f(x)\\, dx = \\alpha f(a)+  \\beta f(\\frac {a+b}{2})+ \\gamma f(b)$:\n",
    "\n",
    "On évalue stratégiquement,\n",
    "\n",
    "- Si $f(x)=1$:\n",
    "$$\n",
    "\\int_a^b 1 \\, dx =b-a=\\alpha+\\beta+\\gamma\n",
    "$$\n",
    "- Si $f(x)=x-a$:\n",
    "$$\n",
    "\\int_a^b x-a \\, dx = \\frac {(b-a)^2}{2}=\\beta \\frac{b-a}{2}+\\gamma (b-a)\n",
    "$$\n",
    "Ainsi, \n",
    "$$\n",
    "\\begin {cases}\n",
    "\\frac{b-a}2 =\\frac{\\beta}2 +\\gamma \\\\\n",
    "\\frac{b-a}3=\\frac{\\beta}4 +\\gamma\n",
    "\\end{cases}\n",
    "$$\n",
    "<div class=\"alert alert-info\">\n",
    "\n",
    "$$\n",
    "\\int_a^b f(x) \\,dx=\\frac {b-a} 6 \\left(f(a)+4f(\\frac {a+b} 2)+f(b)\\right)\n",
    "$$\n",
    "Si $f$ est un trinôme\n",
    "</div>\n",
    "<u>Généralisation:</u>\n",
    "\n",
    "On pose $\\displaystyle h=\\frac{b-a}n$, $\\begin{cases} a_k=a+kh \\\\ b_k=a+h+kh\\end{cases} $. Donc, si $k\\in [0,n-1]$ et $n$ est le nombre d'intégrations:\n",
    "$$\n",
    "F\\approx \\sum_{k=0}^{n-1}\\frac{a+kh-a-kh+h}6 (f(a+kh)+4f(\\frac {a+kh+a+kh+h}2)+f(a+h+kh))\n",
    "$$\n",
    "Ce qui donne:\n",
    "<div class=\"alert alert-success\">\n",
    "\n",
    "$$\n",
    "F\\approx \\sum_{k=0}^{n-1} \\frac{h}6 f(a+kh)+4f\\left(a+kh+\\frac {h}2\\right)+f(a+h(1+k))\n",
    "$$\n",
    "</div>"
   ]
  },
  {
   "cell_type": "markdown",
   "metadata": {},
   "source": [
    "**précision- erreur a ajouter**\n",
    "f(x)=0: $\\phi$ -> précision (phi'=0 -> quadratiq)... voir photos 08/04/25 "
   ]
  },
  {
   "cell_type": "markdown",
   "metadata": {},
   "source": [
    "# Bases sympy\n",
    "A étoffer si besoin"
   ]
  },
  {
   "cell_type": "code",
   "execution_count": null,
   "metadata": {},
   "outputs": [
    {
     "data": {
      "text/latex": [
       "$\\displaystyle x$"
      ],
      "text/plain": [
       "x"
      ]
     },
     "metadata": {},
     "output_type": "display_data"
    },
    {
     "data": {
      "text/latex": [
       "$\\displaystyle x^{2} \\cos{\\left(2 x^{3} \\right)}$"
      ],
      "text/plain": [
       "x**2*cos(2*x**3)"
      ]
     },
     "metadata": {},
     "output_type": "display_data"
    },
    {
     "data": {
      "text/latex": [
       "$\\displaystyle \\frac{\\sin{\\left(2 x^{3} \\right)}}{6}$"
      ],
      "text/plain": [
       "sin(2*x**3)/6"
      ]
     },
     "metadata": {},
     "output_type": "display_data"
    },
    {
     "data": {
      "text/latex": [
       "$\\displaystyle - 6 x^{4} \\sin{\\left(2 x^{3} \\right)} + 2 x \\cos{\\left(2 x^{3} \\right)}$"
      ],
      "text/plain": [
       "-6*x**4*sin(2*x**3) + 2*x*cos(2*x**3)"
      ]
     },
     "metadata": {},
     "output_type": "display_data"
    },
    {
     "data": {
      "text/plain": [
       "<function _lambdifygenerated(x)>"
      ]
     },
     "metadata": {},
     "output_type": "display_data"
    },
    {
     "name": "stdout",
     "output_type": "stream",
     "text": [
      "f=x**2*cos(2*x**3)\n",
      "F=sin(2*x**3)/6\n",
      "fp=-6*x**4*sin(2*x**3) + 2*x*cos(2*x**3)\n",
      "fp_np=<function _lambdifygenerated at 0x0000018F72621620>\n"
     ]
    }
   ],
   "source": [
    "import sympy as sp\n",
    "import numpy as np\n",
    "x=sp.symbols('x')       # Définit les variables, il peut y en avoir plusieurs \n",
    "f=sp.cos(2*x**3)*x**2   # Pas une fonction mais une formule avec x comme var !\n",
    "F=sp.integrate(f,x)     # Plus qu'à faire du calcul formel. !! On appelle la variable f, pas une fonction f(x)!\n",
    "fp=sp.diff(f,x)         # f'(x)\n",
    "fp_np= sp.lambdify(x,fp,\"numpy\") # Permet de passer de sympy à numpy, mais difficile/impossible de faire l'inverse\n",
    "                                 # mais ne s'affiche pas correctement\n",
    "display(x,f,F,fp,fp_np)               # affiche les formules au format markdown\n",
    "print(f\"{f=}\\n{F=}\\n{fp=}\\n{fp_np=}\") # les affiche au format python"
   ]
  },
  {
   "cell_type": "markdown",
   "metadata": {},
   "source": []
  }
 ],
 "metadata": {
  "kernelspec": {
   "display_name": "Python 3",
   "language": "python",
   "name": "python3"
  },
  "language_info": {
   "codemirror_mode": {
    "name": "ipython",
    "version": 3
   },
   "file_extension": ".py",
   "mimetype": "text/x-python",
   "name": "python",
   "nbconvert_exporter": "python",
   "pygments_lexer": "ipython3",
   "version": "3.11.9"
  }
 },
 "nbformat": 4,
 "nbformat_minor": 2
}
