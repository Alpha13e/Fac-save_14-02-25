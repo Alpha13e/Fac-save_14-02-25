{
 "cells": [
  {
   "cell_type": "markdown",
   "metadata": {},
   "source": [
    "8/02/2024 last save .py copié intégralement\n",
    ">**Tutos Markdown:**\n",
    "> - Généralités: [framasoft](https://docs.framasoft.org/fr/grav/markdown.html) ; [ionos](https://www.ionos.fr/digitalguide/sites-internet/developpement-web/markdown/)\n",
    "> - Formules: [MathJax](https://math.meta.stackexchange.com/questions/5020/mathjax-basic-tutorial-and-quick-reference)\n",
    "> - Diagrammes: [Mermaid](http://mermaid.js.org/intro/)\n",
    "\n",
    ">ressources code: [Thomas](https://github.com/Valdr687/Documents/wiki/Programmer#git--github)"
   ]
  },
  {
   "cell_type": "markdown",
   "metadata": {},
   "source": [
    "# Cours info 23/24"
   ]
  },
  {
   "cell_type": "code",
   "execution_count": 1,
   "metadata": {},
   "outputs": [
    {
     "name": "stdout",
     "output_type": "stream",
     "text": [
      "Welcome !\n"
     ]
    }
   ],
   "source": [
    "import numpy as np\n",
    "import matplotlib.pyplot as plt\n",
    "from random import randint\n",
    "from turtle import *\n",
    "from copy import deepcopy\n",
    "#from tutor import tutor\n",
    "#from rcviz import*    #pour suivre une récursivité\n",
    "# @viz\n",
    "#fonction_recursive.callgraph()\n",
    "print('Welcome !')"
   ]
  },
  {
   "cell_type": "markdown",
   "metadata": {},
   "source": [
    "## Cours"
   ]
  },
  {
   "cell_type": "markdown",
   "metadata": {},
   "source": [
    "- Mots interdits/utiles:\n",
    "\n",
    "\n",
    "||||||||||||\n",
    "|-|-|-|-|-|-|-|-|-|-|-|\n",
    "|and|as|assert|break|class|**continue**|def|del|elif|else|with|\n",
    "|**exept**|false|finally|for|from|global|if|import|in|is|while|\n",
    "|lambda|none|nonlocal|not|or|**pass**|raise|return|true|try|yield|"
   ]
  },
  {
   "cell_type": "markdown",
   "metadata": {},
   "source": [
    "3. Tris "
   ]
  },
  {
   "cell_type": "code",
   "execution_count": 15,
   "metadata": {},
   "outputs": [],
   "source": [
    "def tri_insertion(T : list[float]):\n",
    "    for i in range(1,len(T)):\n",
    "        j=i\n",
    "        x=T[j]\n",
    "        while j>0 and T[j-1]>x:\n",
    "            T[j]=T[j-1]\n",
    "            j=j-1\n",
    "            T[j]=x\n",
    "    return T\n",
    "#untested   O(n^2)"
   ]
  },
  {
   "cell_type": "code",
   "execution_count": 16,
   "metadata": {},
   "outputs": [],
   "source": [
    "#Quicksort:\n",
    "def echange(T:list,i:int,j:int):\n",
    "    T[i],T[j]=T[j],T[i]\n",
    "    return T\n",
    "    \n",
    "def partition (T:list[float],g:int,d:int):\n",
    "    assert g<d ,\"mauvaises bornes !\"\n",
    "    x=T[g]\n",
    "    m=g\n",
    "    for i in range (g+1,d):\n",
    "        if T[i]<x:\n",
    "            m=m+1 \n",
    "            echange(T,i,m)\n",
    "        if m!=g:\n",
    "             echange(T, g, m)\n",
    "    return m \n"
   ]
  },
  {
   "cell_type": "markdown",
   "metadata": {},
   "source": [
    "4. f(x)=0: Résolution\n",
    "> Généralement limité à 1 seule racine\n",
    "\n",
    "  `import scipy.optimize`\n",
    "- <u>Dichotomie :</u> \n",
    "    \n",
    "  `x=scipy.optimize.bisect(f,a,b,epsilon,itemax)`\n",
    "- <u>Newton :</u> \n",
    "  \n",
    "  `x=scipy.optimize.newton(f,x0,f',epsilon,itemax)`\n",
    "> Développement de Taylor puis incrémentation: x1=x0 - f(x0)/f'(x0)\n"
   ]
  },
  {
   "cell_type": "code",
   "execution_count": null,
   "metadata": {},
   "outputs": [],
   "source": [
    "#Intégration\n",
    "a=int(input(\"entrer pt départ\"))\n",
    "b=int(input(\"pt arrivée\"))\n",
    "n=int(input(\"nb subdivisions\"))\n",
    "S=0\n",
    "#milieu\n",
    "for k in range(0,n):\n",
    "    sigma=a+k*((b-a)/float(n))\n",
    "    S=S+4*((b-a)/float(n))*(1-sigma**2)**0.5\n",
    "print(S)\n"
   ]
  },
  {
   "cell_type": "markdown",
   "metadata": {},
   "source": [
    "## TP\n",
    "### TP1 Base et plt"
   ]
  },
  {
   "cell_type": "markdown",
   "metadata": {},
   "source": [
    "- `//` : Quotient division\n",
    "- `%`  : Reste\n",
    "- `==` : Egal\n",
    "- `!=` : Différend\n",
    "- `< > <= >=` : Comparaisons\n",
    "- `in` : appartient\n",
    "- `assert`, `input()`"
   ]
  },
  {
   "cell_type": "code",
   "execution_count": 7,
   "metadata": {},
   "outputs": [],
   "source": [
    "#TP1\n",
    "plt.figure()\n",
    "x = np.linspace(-1.5, 1.5, 30)\n",
    "yt = np.tan(x)\n",
    "yx = x-(1/6)*x**3\n",
    "\n",
    "plt.plot(x, yt, 'c.',label='tan(x)')\n",
    "plt.plot(x, yx, 'm+-',label='f(x)')\n",
    "\n",
    "plt.legend()\n",
    "plt.grid()\n",
    "#plt.errorbar(x, y, kwargs)\n",
    "plt.axis([-1.5, 1.5, -10, 10])\n",
    "plt.title('titration (;')\n",
    "plt.xlabel('abscissation')\n",
    "plt.ylabel('ordonnation')\n",
    "#plt.show()\n",
    "plt.close()"
   ]
  },
  {
   "cell_type": "markdown",
   "metadata": {},
   "source": [
    "### TP2,3 listes\n",
    "\n",
    "- appeler éléments de liste: `l[début:fin:pas]`\n",
    "- liste par compréhension: `[i for i in range(debut,fin,pas)]` ou `List if i<n` ...\n",
    "- Types variables : `type(a)` : `list`, `str`, `int`, `float`,`tuple`(liste non modifiable),`dict`, `set`\n",
    "- numpy : `np.array([1,2,3])`, `l*l` possible"
   ]
  },
  {
   "cell_type": "markdown",
   "metadata": {},
   "source": [
    "Méthodes :\n",
    "- `sum(l)` : somme les éléments de l ssi ce sont tous des nombres\n",
    "- `len(l)` : longueur de l\n",
    "- `del l[i]` : supprime l'élément de position i\n",
    "- `sorted(l)` : renvoie une liste triée \n",
    "- `max(l)` `min(l)`\n",
    "\n",
    "\n",
    "- `l.append(x)`, `l.remove(x)`, `l.count(x)`, `l.insert(i,x)`, `l.clear(x)`\n",
    "- `l.extend(L)` ajoute les éléments de L en fin de l, équivaut à l+L\n",
    "- `l.pop(i)` renvoie l’élément d’indice i dans l puis le supprime\n",
    "- `l.index(x)` renvoie l’indice de la première occurrence de x dans l\n",
    "- `l.sort()` **modifie** la liste a en la triant.\n",
    "- `l.reverse()` **modifie** la liste a en inversant les éléments\n",
    "\n",
    "Parcourir listes dans une boucle:\n",
    "- `l` parcourt les éléments de l\n",
    "- `range(len(l))` parcourt ses indices\n",
    "- `enumerate(l)` donne la paire (indice,éléments)\n",
    "- `zip` parcourt n listes d'un coup, s'arrête au dernier rang de la plus petite liste\n",
    "\n",
    "\n",
    "`i,(ai,bi) in enumerate(zip(a,b))`**Parcours ultime !**"
   ]
  },
  {
   "cell_type": "code",
   "execution_count": 8,
   "metadata": {},
   "outputs": [
    {
     "name": "stdout",
     "output_type": "stream",
     "text": [
      "1 str1\n",
      "1 int1\n"
     ]
    }
   ],
   "source": [
    "# Dictionnaires : ensembles (clé,valeur)\n",
    "d={\"cle1\":0.5,2:True}\n",
    "d[2]\n",
    "d={}\n",
    "d['1']='str1'\n",
    "d[1]='int1'\n",
    "d\n",
    "\n",
    "#Parcours d'un dico\n",
    "for cle in d:\n",
    "    print(cle, d[cle])"
   ]
  },
  {
   "cell_type": "code",
   "execution_count": 9,
   "metadata": {},
   "outputs": [],
   "source": [
    "# ex d'utilisation\n",
    "def occurrences(texte):\n",
    "    \"\"\"\n",
    "    Retourne le dictionnaire des occurrences tel que décrit au dessus.\n",
    "    \"\"\"\n",
    "    occ = {}  # on a croisé aucun caractère\n",
    "    for c in texte:\n",
    "        # c prend comme valeur successive tous les caractères de texte\n",
    "        if c in occ: # c est déjà une clé\n",
    "            occ[c] = occ[c] + 1\n",
    "        else:\n",
    "            occ[c] = 1 # on a vu c une fois\n",
    "    return occ"
   ]
  },
  {
   "cell_type": "markdown",
   "metadata": {},
   "source": [
    "### TP4 Tris classiques\n"
   ]
  },
  {
   "cell_type": "code",
   "execution_count": 10,
   "metadata": {},
   "outputs": [],
   "source": [
    "def plus_proche_voisin(L : list[int]) -> (int) :\n",
    "    a,b=L[0],L[1]\n",
    "    for i in range(1,len(L)):\n",
    "        diff=abs(a-b)\n",
    "        difi=abs(L[i-1]-L[i])\n",
    "        if (difi)<(diff):\n",
    "            a,b=L[i-1],L[i]\n",
    "        if (difi)==(diff):\n",
    "                 continue\n",
    "    return a,b\n",
    "\n",
    "def dicho(l,x ):    # cherche si x appartient à l\n",
    "    debut=0\n",
    "    fin=len(l)-1\n",
    "    for i in range (len(l)):\n",
    "        m=l[(int(debut-fin))]\n",
    "        if m==x:\n",
    "            return int(len(l)/2)\n",
    "        elif m<x:\n",
    "            fin=fin/2\n",
    "        elif m>x:\n",
    "            debut=fin/2\n",
    "    return False\n",
    "\n",
    "def tri_bulle(nombres : list) -> list:\n",
    "    n = len(nombres)\n",
    "    for i in range(n-1, 0, -1):\n",
    "        for j in range(0,i):\n",
    "            if nombres[j]>nombres[j+1]:\n",
    "                nombres[j],nombres[j+1]=nombres[j+1],nombres[j]\n",
    "    return nombres"
   ]
  },
  {
   "cell_type": "markdown",
   "metadata": {},
   "source": [
    "### TP5 lecture/écriture\n",
    "- `\\n` retour a la ligne\n",
    "- `\\t` tab\n",
    "- `\\a` bib système\n",
    "- `\\\\` antislash\n",
    "- `\\'` ou `\\\"` : écrire `'`ou `\"` dans un texte\n",
    "\n",
    "Méthode f-string : `f\"texte1 {variable à insérer 1} suite du texte\"`"
   ]
  },
  {
   "cell_type": "markdown",
   "metadata": {},
   "source": [
    "Méthodes :\n",
    "\n",
    "- `f.index(\"x\")`renvoie l’indice de la première occurrence de x\n",
    "- `f.count(\"x\")`renvoie le nombre d’occurrence de \"x\"\n",
    "- `f.lower()` `f.upper()`renvoie une **nouvelle** chaîne où tous les caractères de f sont en minuscule/majuscule\n",
    "- `f.capitalize()`renvoie une **nouvelle** chaîne où la **première lettre du premier mot** de f est en\n",
    "majuscule\n",
    "- `f.title()`renvoie une **nouvelle** chaîne où la **première lettre de chaque mot** de s est en majuscule"
   ]
  },
  {
   "cell_type": "markdown",
   "metadata": {},
   "source": [
    "- `read(n)` si n  omis, retourne un str contenant tous les caractères du fichier. Sinon retourne une chaine contenant n caractères\n",
    "- `f.readline()` retourne la ligne en cours de lecture (permet de le parcourir)\n",
    "- `f.readlines()` retourne toutes les lignes du fichier dans une liste\n",
    "- `l.rstrip(\"\\n\\r\")` enlève le superflu\n",
    "- `l.replace(\",\",\".\")` convertit le format des valeurs\n",
    "- `l.split(\\t)` renvoie un liste avec tab comme séparateur"
   ]
  },
  {
   "cell_type": "code",
   "execution_count": null,
   "metadata": {},
   "outputs": [
    {
     "name": "stdout",
     "output_type": "stream",
     "text": [
      "La vie c'est la vie\n",
      "La vie c'est la vie\n"
     ]
    }
   ],
   "source": [
    "# Méthodes de lecture :\n",
    "#pratique:\n",
    "fichier = open(\"test.txt\",\"r\")\n",
    "for l in fichier:\n",
    "    print(l)\n",
    "c=fichier.readline()\n",
    "#pas pratique\n",
    "with open(\"test.txt\",\"r\") as fichier : # 'r'  'w'   'r+':lecture et écriture   'a':append\n",
    "    c=fichier.read()\n",
    "fichier.close()\n",
    "print(c)\n"
   ]
  },
  {
   "cell_type": "markdown",
   "metadata": {},
   "source": [
    "### TP6 récursivité et boucles\n",
    ">Ingrédients pour créer une fonction récursive :\n",
    "- Une fonction récursive doit contenir une ou plusieurs conditions d'arrêt :\n",
    "elles correspondent aux valeurs initiales de la suite ;\n",
    "- Les paramètres d'appel de la fonction récursive doivent être différents de ceux d'entrée :\n",
    "comme dans une relation de récurrence à un pas, (U<sub>n</sub>) s'exprime en fonction de (U<sub>n-1</sub>) ;\n",
    "- Après un nombre fini d’appels, le paramètre d’entrée doit permettre d’atteindre une condition d’arrêt.\n",
    "\n",
    ">Boucles avancées:\n",
    "- `break`sort de la plus petite boucle **et saute les `else` de cette indentation !**\n",
    "- `continue` passe directement à la prochaine itération *(utile pour éviter des cas impossibles)*\n",
    "  \n",
    "Ne pas hésiter à utiliser des `not`, `any` ou autres (voir tableau en haut)"
   ]
  },
  {
   "cell_type": "code",
   "execution_count": 12,
   "metadata": {},
   "outputs": [],
   "source": [
    "# Exemple: Le tri fusion:\n",
    "def fusion(L1,L2) :\n",
    "    n,m = len(L1),len(L2)\n",
    "    liste = []\n",
    "    # on utilise une boucle while pour parcourir les deux listes    \n",
    "    while n + m >= 0 :\n",
    "        if n == 0 :\n",
    "            return liste + L2\n",
    "        elif m == 0 :\n",
    "            return liste + L1\n",
    "        else :\n",
    "            if L1[0] < L2[0] :\n",
    "                liste = liste + [L1[0]]\n",
    "                L1 = L1[1:n]\n",
    "                n = n - 1\n",
    "            else :\n",
    "                liste = liste + [L2[0]]\n",
    "                L2 = L2[1:m]\n",
    "                m = m - 1\n",
    "\n",
    "def tri_fusion(liste) :\n",
    "    n = len(liste)\n",
    "    if n <= 1 :\n",
    "        return liste\n",
    "    else :\n",
    "        milieu = n // 2\n",
    "        liste1 = tri_fusion(liste[0 : milieu])\n",
    "        liste2 = tri_fusion(liste[milieu : n])\n",
    "        return fusion(liste1,liste2)\n",
    "\n",
    "# Exemple 2: Le tri rapide (quick sort)\n",
    "def tri_rapide(tableau :list) -> list:\n",
    "    \"Fonction qui effectue le tri de la liste tableau en utilisant la méthode de tri rapide\"\n",
    "    if len(tableau) == 0:\n",
    "        return tableau\n",
    "    else:\n",
    "        # pivot sera le dernier élément de notre tableau (nous faisons ce choix ici mais d'autres choix de pivots existent)\n",
    "        pivot = tableau[len(tableau)-1]\n",
    "        # compléter la ligne suivante de façon à créer une liste (par compréhension de liste)\n",
    "        #  constituée des élément de tableau qui sont strictement inférieurs au pivot\n",
    "        plus_petit = [i for i in tableau if i<pivot]\n",
    "        # compléter la ligne suivante de façon à créer une liste (par compréhension de liste)\n",
    "        #  constitué des élément de tableau qui sont supérieurs ou égaux au pivot\n",
    "        plus_grand = [i for i in tableau if i>pivot]\n",
    "        # Compléter par l'appel récursif\n",
    "        return tri_rapide(plus_petit) + [pivot] + tri_rapide(plus_grand)\n"
   ]
  },
  {
   "cell_type": "code",
   "execution_count": 13,
   "metadata": {},
   "outputs": [],
   "source": [
    "# Attention c'est lourd! (graphes de complexité)\n",
    "import time\n",
    "import random\n",
    "import matplotlib.pyplot as plt\n",
    "\n",
    "def generer_temps_calcul(debut, fin, pas, fontion_de_tri):\n",
    "    chronos = []\n",
    "    for N in range(debut, fin, pas ):\n",
    "        tableau = [random.randint(1, 1000000) for i in range(N)]\n",
    "        debut = time.perf_counter()\n",
    "        fontion_de_tri(tableau)\n",
    "        temps = time.perf_counter() - debut\n",
    "        chronos.append(temps)\n",
    "        #print(\"calcul pour N = \", str(N), \" effectué en \", str(temps), \" secondes\")\n",
    "    return chronos\n",
    "\n",
    "def afficher_graphique_temps_tri(debut, fin, pas, fontion_de_tri):\n",
    "    abscisses = list(range(debut, fin, pas))\n",
    "    chronos = generer_temps_calcul(debut, fin, pas,fontion_de_tri)\n",
    "    plt.plot(abscisses, chronos, 'r.')\n",
    "    plt.xticks(abscisses[::2], [str(x) for x in abscisses[::2]], rotation = 'vertical')\n",
    "    plt.title('temps d\\'exécution de la recherche d\\'occurence (parcours séquentiel)')\n",
    "    plt.xlabel('taille du tableau')\n",
    "    plt.ylabel('temps d\\'exécution en secondes')\n",
    "    plt.show()\n",
    "    \n",
    "#afficher_graphique_temps_tri(0,10000,500,tri_fusion)\n",
    "\n",
    "def tri_bulle(liste) :\n",
    "    N = len(liste)\n",
    "\n",
    "    for i in range(N) :\n",
    "        for j in range(0,N-i-1):\n",
    "            # Au tour i, les N-i derniers éléments sont triés         \n",
    "            if liste[j] > liste[j+1]:\n",
    "                liste[j],liste[j+1] = liste[j+1],liste[j]\n",
    "\n",
    "#afficher_graphique_temps_tri(0,10000,500,tri_bulle)"
   ]
  },
  {
   "cell_type": "markdown",
   "metadata": {},
   "source": [
    "#### Complément Turtle\n",
    "> En mode standard le traceur (la \"tortue\") est  initialement au point (0,0), pointant vars la droite.\n",
    "- ``forward(n)`` : permet d'**avancer** de n pixels\n",
    "- ``goto(x,y)`` : permet d'**aller** au point de coordonnées (x,y)\n",
    "- ``left(deg)`` et ``right(deg)`` : **rotation** de \"deg\" degrés vers la gauche ou la droite, par-rapport à la direction actuelle.\n",
    "- ``setheading(direction)`` : **oriente** la tortue dans la direction indiquée, en degrés par-rapport à l'axe Ox.\n",
    "- ``penup()`` et ``pendown()`` : respectivement **\"lever le crayon\"** (permet de déplacer la tortue sans tracer de trait) et \"baisser le crayon\"\n",
    "- ``begin_fill()`` et ``end_fill()`` : permettent de **remplir la forme** dessinée entre les deux instructions - ``pencolor(couleur)``, ``fillcolor(couleur)`` permettent de **choisir les couleurs** de dessin et de remplissage (les couleurs sont indiquées par des chaines de caractère, en anglais)\n",
    "- ``hideturtle()`` : permet de **cacher la tortue**.\n",
    "- ``speed(v)`` : permet de **moduler la vitesse** de déplacement v de la tortue entre 1 et 10, Si v = 0 ou v > 10 le tracé est instantané.\n",
    "- ``reset()`` remet la tortue dans sont état initial\n",
    "> Utiliser ``done()`` pour aficher\n"
   ]
  },
  {
   "cell_type": "code",
   "execution_count": 14,
   "metadata": {},
   "outputs": [],
   "source": [
    "#exemple fractale récursive:\n",
    "#reset()\n",
    "\n",
    "def dragon(n,s) :\n",
    "    hideturtle()\n",
    "    speed('fastest')\n",
    "    if n == 0 :\n",
    "        forward(10)\n",
    "    else :\n",
    "        dragon(n-1,1)\n",
    "        right(s * 90)\n",
    "        dragon(n-1,-1)\n",
    "#dragon(8,1)\n",
    "#done()"
   ]
  }
 ],
 "metadata": {
  "kernelspec": {
   "display_name": "Python 3",
   "language": "python",
   "name": "python3"
  },
  "language_info": {
   "codemirror_mode": {
    "name": "ipython",
    "version": 3
   },
   "file_extension": ".py",
   "mimetype": "text/x-python",
   "name": "python",
   "nbconvert_exporter": "python",
   "pygments_lexer": "ipython3",
   "version": "3.11.9"
  }
 },
 "nbformat": 4,
 "nbformat_minor": 2
}
